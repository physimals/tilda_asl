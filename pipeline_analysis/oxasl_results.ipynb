{
 "cells": [
  {
   "cell_type": "code",
   "execution_count": 1,
   "metadata": {},
   "outputs": [
    {
     "name": "stderr",
     "output_type": "stream",
     "text": [
      "D:\\Softwares\\Anaconda3\\lib\\site-packages\\nilearn\\datasets\\__init__.py:90: FutureWarning: Fetchers from the nilearn.datasets module will be updated in version 0.9 to return python strings instead of bytes and Pandas dataframes instead of Numpy arrays.\n",
      "  \"Numpy arrays.\", FutureWarning)\n"
     ]
    }
   ],
   "source": [
    "import os, csv\n",
    "import pandas as pd\n",
    "import nibabel as nib\n",
    "import ipywidgets\n",
    "import matplotlib.pyplot as plt\n",
    "import matplotlib as mpl\n",
    "import nilearn.plotting\n",
    "from IPython.display import display, clear_output\n",
    "from ipywidgets import widgets, interact\n",
    "import numpy as np\n",
    "import regtricks as rt\n",
    "from nibabel import nifti1\n",
    "from PIL import Image\n",
    "from nibabel.viewers import OrthoSlicer3D\n",
    "\n",
    "%matplotlib notebook"
   ]
  },
  {
   "cell_type": "code",
   "execution_count": 2,
   "metadata": {},
   "outputs": [
    {
     "data": {
      "text/html": [
       "<script>$(\"div.input\").hide()</script>"
      ],
      "text/plain": [
       "<IPython.core.display.HTML object>"
      ]
     },
     "metadata": {},
     "output_type": "display_data"
    },
    {
     "data": {
      "application/vnd.jupyter.widget-view+json": {
       "model_id": "b0fe8aa56af149dbb1e8bef52508da0c",
       "version_major": 2,
       "version_minor": 0
      },
      "text/plain": [
       "ToggleButton(value=False, description='Show code')"
      ]
     },
     "metadata": {},
     "output_type": "display_data"
    }
   ],
   "source": [
    "import ipywidgets as widgets\n",
    "from IPython.display import display, HTML\n",
    "javascript_functions = {False: \"hide()\", True: \"show()\"}\n",
    "button_descriptions  = {False: \"Show code\", True: \"Hide code\"}\n",
    "def toggle_code(state):\n",
    "    output_string = \"<script>$(\\\"div.input\\\").{}</script>\"\n",
    "    output_args   = (javascript_functions[state],)\n",
    "    output        = output_string.format(*output_args)\n",
    "    display(HTML(output))\n",
    "def button_action(value):\n",
    "    state = value.new\n",
    "    toggle_code(state)\n",
    "    value.owner.description = button_descriptions[state]\n",
    "state = False\n",
    "toggle_code(state)\n",
    "button = widgets.ToggleButton(state, description = button_descriptions[state])\n",
    "button.observe(button_action, \"value\")\n",
    "display(button)"
   ]
  },
  {
   "cell_type": "code",
   "execution_count": 3,
   "metadata": {},
   "outputs": [],
   "source": [
    "def getMasked(mask, image):\n",
    "    temp =np.zeros(image.shape)\n",
    "    num = 0 \n",
    "    for id,x in np.ndenumerate(temp):\n",
    "        if mask[id[0]][id[1]][id[2]] > 0:\n",
    "            temp[id[0]][id[1]][id[2]] = image[id[0]][id[1]][id[2]]\n",
    "            num += 1\n",
    "        else:\n",
    "            temp[id[0]][id[1]][id[2]] = np.nan\n",
    "    print(\"mask shape:\", mask.shape)\n",
    "    print(\"mask pixls:\", num)\n",
    "\n",
    "    new_image = nib.Nifti1Image(temp, affine=np.eye(4))\n",
    "    return new_image\n",
    "\n",
    "subjects_list = []\n",
    "for i in range(1,12):\n",
    "    subjects_list.append('sub-'+str(i))"
   ]
  },
  {
   "cell_type": "markdown",
   "metadata": {},
   "source": [
    "# GM & WM Perfusion"
   ]
  },
  {
   "cell_type": "code",
   "execution_count": 4,
   "metadata": {
    "scrolled": false
   },
   "outputs": [
    {
     "data": {
      "application/vnd.jupyter.widget-view+json": {
       "model_id": "13be9418c7a749029d47f3c8212829f0",
       "version_major": 2,
       "version_minor": 0
      },
      "text/plain": [
       "interactive(children=(Dropdown(description='Subject:', options=('sub-1', 'sub-2', 'sub-3', 'sub-4', 'sub-5', '…"
      ]
     },
     "metadata": {},
     "output_type": "display_data"
    }
   ],
   "source": [
    "PVC_options = [(\"No\", 0),('Yes', 1)]\n",
    "PVC_dropdown = ipywidgets.Dropdown(options=PVC_options,\n",
    "                                value=0,\n",
    "                                description=\"PVC:\")\n",
    "\n",
    "Subject_options = subjects_list\n",
    "Subject_dropdown = ipywidgets.Dropdown(options=Subject_options,\n",
    "                                value='sub-1',\n",
    "                                description=\"Subject:\")\n",
    "\n",
    "calib_list = [('voxelwise(default)', 0), (\"csf\", 1), (\"wm\", 2)]\n",
    "Calib_options = calib_list\n",
    "Calib_dropdown = ipywidgets.Dropdown(options=Calib_options,\n",
    "                                value=0,\n",
    "                                description=\"Calibration method:\")\n",
    "\n",
    "def get_csv_by_index(subject_name,pvc_index, calib_index):\n",
    "    subject_path = os.path.join(os.getcwd(), 'oxasl_display', subject_name)\n",
    "    calib_method = ['voxelwise', 'refregion']\n",
    "    native_space_dir = os.path.join(subject_path, \"oxasl_results\", 'output', 'native')\n",
    "    native_space_pvc_dir = os.path.join(subject_path, \"oxasl_results\", 'output_pvcorr', 'native')\n",
    "    calib_folder = ['calib_voxelwise', 'calib_refregion_csf','calib_refregion_wm']\n",
    "    region_analysis_dir = [] \n",
    "    region_analysis_pvc_dir = [] \n",
    "    for calib_f in calib_folder:\n",
    "        #print(os.path.join(native_space_dir, calib_f))\n",
    "        region_analysis_dir.append(os.path.join(native_space_dir, calib_f))\n",
    "        region_analysis_pvc_dir.append(os.path.join(native_space_pvc_dir, calib_f))\n",
    "    \n",
    "\n",
    "    perfusions_list = []\n",
    "    pd_Cerebral_Ratio_list = []\n",
    "    pd_GM_WM_Ratio_list = []\n",
    "    pd_LICA_RICA_Ratio_list = []\n",
    "    for idx in range(len(region_analysis_dir)):\n",
    "        perfusion_df = pd.read_csv(os.path.join(region_analysis_dir[idx], 'roi_stats.csv'))\n",
    "        perfusion_gm_df = pd.read_csv(os.path.join(region_analysis_pvc_dir[idx], 'roi_stats_gm.csv'))\n",
    "        perfusion_wm_df = pd.read_csv(os.path.join(region_analysis_pvc_dir[idx], 'roi_stats_wm.csv'))\n",
    "    \n",
    "        nonPVC = pd.concat([perfusion_df.iloc[0,:].to_frame().T, perfusion_df.iloc[2,:].to_frame().T, perfusion_df.iloc[1,:].to_frame().T, perfusion_df.iloc[3,:].to_frame().T,perfusion_df.iloc[4,:].to_frame().T,perfusion_df.iloc[5,:].to_frame().T,perfusion_df.iloc[24,:].to_frame().T,perfusion_df.iloc[25,:].to_frame().T,perfusion_df.iloc[26,:].to_frame().T], axis=0).reset_index(drop=True)\n",
    "        PVC = pd.concat([perfusion_gm_df.iloc[0,].to_frame().T, perfusion_gm_df.iloc[2,].to_frame().T,perfusion_wm_df.iloc[1,].to_frame().T,perfusion_wm_df.iloc[3,].to_frame().T,perfusion_wm_df.iloc[4,:].to_frame().T,perfusion_wm_df.iloc[5,:].to_frame().T,perfusion_gm_df.iloc[24,:].to_frame().T,perfusion_gm_df.iloc[25,:].to_frame().T,perfusion_gm_df.iloc[26,].to_frame().T], axis=0).reset_index(drop=True)\n",
    "        perfusions = [nonPVC, PVC]\n",
    "        for perf in perfusions:\n",
    "            perf['SpCov'] = perf[['Std', 'Mean']].apply(lambda x:x['Std']*100/x['Mean'], axis = 1)\n",
    "        perfusions_list.append(perfusions)\n",
    "    \n",
    "        LICA_RICA_Ratio_nonPVC = {'LICA':[perfusion_df.iloc[25,2]], 'RICA':[perfusion_df.iloc[24,2]], \"L/R\":[round(perfusion_df.iloc[25,2]/perfusion_df.iloc[24,2], 2)]}\n",
    "        pd_LICA_RICA_Ratio_nonPVC = pd.DataFrame(data=LICA_RICA_Ratio_nonPVC)\n",
    "        LICA_RICA_Ratio_PVC = {'LICA':[perfusion_gm_df.iloc[25,2]], 'RICA':[perfusion_gm_df.iloc[24,2]], \"L/R\":[round(perfusion_gm_df.iloc[25,2]/perfusion_gm_df.iloc[24,2], 2)]}\n",
    "        pd_LICA_RICA_Ratio_PVC = pd.DataFrame(data=LICA_RICA_Ratio_PVC)\n",
    "\n",
    "\n",
    "        pd_LICA_RICA_Ratio = [pd_LICA_RICA_Ratio_nonPVC, pd_LICA_RICA_Ratio_PVC]\n",
    "        pd_LICA_RICA_Ratio_list.append(pd_LICA_RICA_Ratio)\n",
    "        \n",
    "        Cerebral_Ratio_nonPVC = {'Right_Cerebral':[perfusion_df.iloc[4,2]], 'Left_Cerebral':[perfusion_df.iloc[5,2]], \"R/L\":[round(perfusion_df.iloc[4,2]/perfusion_df.iloc[5,2], 2)]}\n",
    "        pd_Cerebral_Ratio_Ratio_nonPVC = pd.DataFrame(data=Cerebral_Ratio_nonPVC)\n",
    "        Cerebral_Ratio_Ratio_PVC = {'Right_Cerebral':[perfusion_wm_df.iloc[4,2]], 'Left_Cerebral':[perfusion_wm_df.iloc[5,2]], \"R/L\":[round(perfusion_wm_df.iloc[4,2]/perfusion_wm_df.iloc[5,2], 2)]}\n",
    "        pd_Cerebral_Ratio_Ratio_PVC = pd.DataFrame(data=Cerebral_Ratio_Ratio_PVC)\n",
    "\n",
    "        pd_Cerebral_Ratio = [pd_Cerebral_Ratio_Ratio_nonPVC, pd_Cerebral_Ratio_Ratio_PVC]\n",
    "        pd_Cerebral_Ratio_list.append(pd_Cerebral_Ratio)\n",
    "        \n",
    "        GM_WM_Ratio_nonPVC = {'80%+GM':[perfusion_df.iloc[2,2]], '90%+WM':[perfusion_df.iloc[3,2]], \"80%+GM/90%+WM\":[round(perfusion_df.iloc[2,2]/perfusion_df.iloc[3,2], 2)]}\n",
    "        pd_GM_WM_Ratio_Ratio_nonPVC = pd.DataFrame(data=GM_WM_Ratio_nonPVC)\n",
    "        GM_WM_Ratio_PVC = {'80%+GM':[perfusion_gm_df.iloc[2,2]], '90%+WM':[perfusion_wm_df.iloc[3,2]], \"80%+GM/90%+WM\":[round(perfusion_gm_df.iloc[2,2]/perfusion_wm_df.iloc[3,2], 2)]}\n",
    "        pd_GM_WM_Ratio_PVC = pd.DataFrame(data=GM_WM_Ratio_PVC)\n",
    "\n",
    "        pd_GM_WM_Ratio = [pd_GM_WM_Ratio_Ratio_nonPVC, pd_GM_WM_Ratio_PVC]\n",
    "        pd_GM_WM_Ratio_list.append(pd_GM_WM_Ratio)\n",
    "    \n",
    "    return [perfusions_list, pd_LICA_RICA_Ratio_list, pd_Cerebral_Ratio_list, pd_GM_WM_Ratio_list ]\n",
    "\n",
    "\n",
    "def mean_perfusion_barchart(data):\n",
    "    fig=plt.figure(figsize=(5,3))\n",
    "    ax= fig.add_subplot(1,1,1)\n",
    "    plt.xticks((0, 1, 2, 3, 4, 5, 6, 7, 8), ('10%+GM', '80%+GM', '10%+WM', '90%+WM', 'RC80%WM','LC80%WM', 'RICA', 'LICA', 'VBA'))\n",
    "    plt.title(\"Histgram of perfusion territories\")\n",
    "    plt.xlabel('Territory')\n",
    "    plt.ylabel('Perfusion')\n",
    "    data.set_index(data.columns[0], inplace=True)\n",
    "    #data = data.T\n",
    "    plt.xticks(size=8)\n",
    "    data['Mean'].transpose().plot(kind='bar')\n",
    "    plt.show()\n",
    "    \n",
    "def show_table(subject_name, pvc_index, calib_index):\n",
    "    subject_id = int(subject_name[4:])\n",
    "    try:\n",
    "        pd_list= get_csv_by_index(subject_name, pvc_index,calib_index)\n",
    "        display(pd_list[0][calib_index][pvc_index])\n",
    "        display(pd_list[1][calib_index][pvc_index])\n",
    "        display(pd_list[2][calib_index][pvc_index])\n",
    "        display(pd_list[3][calib_index][pvc_index])\n",
    "        mean_perfusion_barchart(pd_list[0][calib_index][pvc_index])\n",
    "    except Exception as e:\n",
    "        print(e)\n",
    "        print(\"Region_analysis file doesn't exist.\")\n",
    "\n",
    "_ = interact(show_table,subject_name=Subject_dropdown, pvc_index=PVC_dropdown, calib_index=Calib_dropdown)\n",
    "\n"
   ]
  },
  {
   "cell_type": "markdown",
   "metadata": {},
   "source": [
    "# Pre & post Distortion Correction prefusions"
   ]
  },
  {
   "cell_type": "code",
   "execution_count": 5,
   "metadata": {},
   "outputs": [
    {
     "data": {
      "application/vnd.jupyter.widget-view+json": {
       "model_id": "eb2f0e8a6c2840658af9673c508b5e38",
       "version_major": 2,
       "version_minor": 0
      },
      "text/plain": [
       "interactive(children=(Dropdown(description='Subject:', options=('sub-1', 'sub-2', 'sub-3', 'sub-4', 'sub-5', '…"
      ]
     },
     "metadata": {},
     "output_type": "display_data"
    }
   ],
   "source": [
    "#new version\n",
    "Subject_options = subjects_list\n",
    "Subject_dropdown = ipywidgets.Dropdown(options=Subject_options,\n",
    "                                value='sub-1',\n",
    "                                description=\"Subject:\")\n",
    "\n",
    "\n",
    "slice_slider = ipywidgets.IntSlider(value=6,\n",
    "                                    min=0,\n",
    "                                    max=12,\n",
    "                                    step=1,\n",
    "                                    description='Slice:',)\n",
    "\n",
    "pwi_list = [(\"not dc and mc\", 0), (\"not dc but mc\",1), (\"dc and mc\",2)]\n",
    "PWI_options = pwi_list\n",
    "PWI_dropdown = ipywidgets.Dropdown(options=PWI_options,\n",
    "                                value=0,\n",
    "                                description=\"PWI:\")\n",
    "\n",
    "PWI_dropdown2 = ipywidgets.Dropdown(options=PWI_options,\n",
    "                                value=0,\n",
    "                                description=\"PWI2:\")\n",
    "\n",
    "def show_difference_map(subject_name, pwi_index, pwi_index2, slice_index=6):\n",
    "    subject_id = int(subject_name[4:]) \n",
    "    subject_path = os.path.join(os.getcwd(),\"oxasl_display\", subject_name)\n",
    "    #ori_subject = os.path.join(subject_path, \"oxasl_distcorr_voxel_calib\", \"perfusion_calib.nii.gz\")\n",
    "    pwi_image_descriptions = [\"PWI without distortion correction and motion correction\", \"PWI without distortion correction but with motion correction\", \"PWI with distortion correction and motion correction\"]\n",
    "    pwi_names = [os.path.join('preproc', \"pwi.nii.gz\"), os.path.join('moco', \"pwi.nii.gz\"), os.path.join('corrected', \"pwi.nii.gz\")]\n",
    "    \n",
    "    new_subject = os.path.join(subject_path, \"oxasl_results\", pwi_names[pwi_index] ) \n",
    "    pwi_cor_subject = os.path.join(subject_path, \"oxasl_results\", pwi_names[pwi_index2] )\n",
    "    \n",
    "    try:\n",
    "        new_img = nib.load(new_subject)\n",
    "        new_img_arr=new_img.get_fdata()\n",
    "        new_img_arr=np.squeeze(new_img_arr)        \n",
    "        \n",
    "        new_img2 = nib.load(pwi_cor_subject)\n",
    "        new_img_arr2=new_img2.get_fdata()\n",
    "        new_img_arr2=np.squeeze(new_img_arr2)\n",
    "        \n",
    "        plt.figure(figsize=(10,4))\n",
    "        plt.subplot(1, 2, 1)\n",
    "        #new_image = getMasked(mask_img_arr, new_img_arr)\n",
    "        new_img_arr = new_img.dataobj[:,:,slice_index]\n",
    "        #new_image_arr[new_image_arr == 0] = np.nan\n",
    "        new_img_arr=np.rot90(new_img_arr)\n",
    "        plt.imshow(new_img_arr, cmap='gray')\n",
    "        #plt.set_cmap('RdGy')\n",
    "        plt.colorbar()\n",
    "        plt.title(pwi_image_descriptions[pwi_index])\n",
    "        plt.show()\n",
    "        \n",
    "        \n",
    "        plt.subplot(1, 2, 2)\n",
    "        #new_image = getMasked(mask_img_arr, new_img_arr)\n",
    "        new_img_arr2 = new_img2.dataobj[:,:,slice_index]\n",
    "        #new_image_arr[new_image_arr == 0] = np.nan\n",
    "        new_img_arr2=np.rot90(new_img_arr2)\n",
    "        plt.imshow(new_img_arr2, cmap='gray')\n",
    "        #plt.set_cmap('RdGy')\n",
    "        plt.colorbar()\n",
    "        plt.title(pwi_image_descriptions[pwi_index2])\n",
    "        plt.show()\n",
    "        \n",
    "        \n",
    "    except Exception as e:\n",
    "        print(str(e))\n",
    "        #print(\"File doesn't exist.\")\n",
    "\n",
    "        \n",
    "_ = interact(show_difference_map,\n",
    "             subject_name=Subject_dropdown, \n",
    "             pwi_index=PWI_dropdown,\n",
    "             pwi_index2=PWI_dropdown2,\n",
    "            slice_index=slice_slider)"
   ]
  },
  {
   "cell_type": "markdown",
   "metadata": {},
   "source": [
    "# Perfusion&perfusion_calib "
   ]
  },
  {
   "cell_type": "code",
   "execution_count": 6,
   "metadata": {},
   "outputs": [
    {
     "data": {
      "application/vnd.jupyter.widget-view+json": {
       "model_id": "8cc746a2f78c4679ba62dffcab3b57cc",
       "version_major": 2,
       "version_minor": 0
      },
      "text/plain": [
       "interactive(children=(Dropdown(description='Subject:', options=('sub-1', 'sub-2', 'sub-3', 'sub-4', 'sub-5', '…"
      ]
     },
     "metadata": {},
     "output_type": "display_data"
    }
   ],
   "source": [
    "\n",
    "Image_options = [(\"Perfusion\", 0),('Perfusion_calib', 1)]\n",
    "Image_dropdown = ipywidgets.Dropdown(options=Image_options,\n",
    "                                value=1,\n",
    "                                description=\"Image Type:\")\n",
    "\n",
    "PVC_options = [(\"No\", 0),('Yes', 1)]\n",
    "PVC_dropdown = ipywidgets.Dropdown(options=PVC_options,\n",
    "                                value=0,\n",
    "                                description=\"PVC:\")\n",
    "\n",
    "\n",
    "Subject_options = subjects_list\n",
    "Subject_dropdown = ipywidgets.Dropdown(options=Subject_options,\n",
    "                                value='sub-1',\n",
    "                                description=\"Subject:\")\n",
    "\n",
    "slice_slider = ipywidgets.IntSlider(value=6,\n",
    "                                    min=0,\n",
    "                                    max=12,\n",
    "                                    step=1,\n",
    "                                    description='Slice:',)\n",
    "\n",
    "calib_list = [('voxelwise(default)', 0), (\"csf\", 1), (\"wm\", 2)]\n",
    "Calib_options = calib_list\n",
    "Calib_dropdown = ipywidgets.Dropdown(options=Calib_options,\n",
    "                                value=0,\n",
    "                                description=\"Calibration method:\")\n",
    "\n",
    "\n",
    "def show_subject(subject_name, image_index, pvc_index, slice_index, calib_index):\n",
    "    subject_id = int(subject_name[4:])\n",
    "    subject_path = os.path.join(os.getcwd(),\"oxasl_display\", subject_name)\n",
    "    native_space_nonpvc_dir = os.path.join(subject_path, \"oxasl_results\", 'output', 'native')\n",
    "    native_space_pvc_dir = os.path.join(subject_path, \"oxasl_results\", 'output_pvcorr', 'native')\n",
    "    calib_folder = ['calib_voxelwise', 'calib_refregion_csf','calib_refregion_wm']\n",
    "    mask_subject = os.path.join(native_space_pvc_dir, 'mask.nii.gz')\n",
    "    \n",
    "    perfusion_path_list= []\n",
    "    #mask_list = []\n",
    "    perfusion_calib_path_list = []\n",
    "    for calib_f in calib_folder:\n",
    "        if pvc_index:\n",
    "            perfusion_path_list.append(os.path.join(native_space_pvc_dir, 'perfusion.nii.gz'))\n",
    "            #mask_list.append(os.path.join(native_space_pvc_dir, 'mask.nii.gz'))\n",
    "            perfusion_calib_path_list.append(os.path.join(native_space_pvc_dir, calib_f,'perfusion.nii.gz'))\n",
    "        else:\n",
    "            perfusion_path_list.append(os.path.join(native_space_nonpvc_dir, 'perfusion.nii.gz'))\n",
    "            #mask_list.append(os.path.join(native_space_nonpvc_dir, 'mask.nii.gz'))\n",
    "            perfusion_calib_path_list.append(os.path.join(native_space_nonpvc_dir, calib_f, 'perfusion.nii.gz'))\n",
    "    \n",
    "    image_path =[perfusion_path_list, perfusion_calib_path_list]\n",
    "    image_desc = ['Perfusion', 'Perfusion_calib']\n",
    "    try:\n",
    "        \n",
    "        ori_img = nib.load(image_path[image_index][calib_index])\n",
    "        mask_img = nib.load(mask_subject)\n",
    "        ori_img_arr=ori_img.get_fdata()\n",
    "        ori_img_arr=np.squeeze(ori_img_arr)\n",
    "        mask_img_arr=mask_img.get_fdata()\n",
    "        mask_img_arr=np.squeeze(mask_img_arr)\n",
    "        \n",
    "        #ori_image = nib.Nifti1Image(ori_img_arr, affine=np.eye(4))\n",
    "        \n",
    "        masked_ori_image = getMasked(mask_img_arr, ori_img_arr)\n",
    "        ori_image = nib.Nifti1Image(ori_img_arr, affine=np.eye(4))\n",
    "        ori_image_arr = ori_image.dataobj[:,:,slice_index]\n",
    "        \n",
    "        plt.figure(figsize=(10,4))\n",
    "        ax = plt.subplot(1, 2, 1)\n",
    "        ori_image_arr=np.rot90(ori_image_arr)\n",
    "        plt.imshow(ori_image_arr, cmap='gray')\n",
    "        plt.title(image_desc[image_index])\n",
    "        #plt.set_cmap('RdGy')\n",
    "        plt.colorbar()\n",
    "        plt.show()\n",
    "        \n",
    "        plt.subplot(1, 2, 2)\n",
    "        #plt.hist(ori_image_arr.flatten()) \n",
    "        n, bins, patches = plt.hist(x=masked_ori_image.dataobj.flatten(), bins='auto', alpha=0.7, rwidth=0.8, color='#0504aa')\n",
    "        plt.grid(axis='y', alpha=0.75)\n",
    "        plt.title(\"Histgram of whole volume\")\n",
    "        plt.xlabel('Perfusion value')\n",
    "        plt.ylabel('Number')\n",
    "        plt.show()\n",
    "        \n",
    "    except Exception as e:\n",
    "        print(str(e))\n",
    "        #print(\"Region_analysis file doesn't exist.\")\n",
    "\n",
    "_ = interact(show_subject,\n",
    "             subject_name=Subject_dropdown, \n",
    "             image_index=Image_dropdown,\n",
    "             pvc_index=PVC_dropdown, \n",
    "             slice_index=slice_slider,\n",
    "             calib_index=Calib_dropdown\n",
    "             )"
   ]
  },
  {
   "cell_type": "markdown",
   "metadata": {},
   "source": [
    "# Motion Estimates"
   ]
  },
  {
   "cell_type": "code",
   "execution_count": 7,
   "metadata": {},
   "outputs": [
    {
     "data": {
      "application/vnd.jupyter.widget-view+json": {
       "model_id": "3bf077a5bb90413b9d23cccfa578f9d3",
       "version_major": 2,
       "version_minor": 0
      },
      "text/plain": [
       "interactive(children=(Dropdown(description='Subject:', options=('sub-1', 'sub-2', 'sub-3', 'sub-4', 'sub-5', '…"
      ]
     },
     "metadata": {},
     "output_type": "display_data"
    }
   ],
   "source": [
    "Subject_options = subjects_list\n",
    "Subject_dropdown = ipywidgets.Dropdown(options=Subject_options,\n",
    "                                value='sub-1',\n",
    "                                description=\"Subject:\")\n",
    "\n",
    "def show_difference_map(subject_name):\n",
    "    subject_id = int(subject_name[4:])\n",
    "    processed_path = os.path.join(os.getcwd(),'oxasl_display', subject_name, 'processed')\n",
    "    rots_path = os.path.join(processed_path, subject_name+'_rots.png')\n",
    "    trans_path = os.path.join(processed_path, subject_name+'_trans.png')\n",
    "    \n",
    "    try:\n",
    "       \n",
    "        plt.figure(figsize=(10,8))\n",
    "        plt.subplot(2, 1, 1)\n",
    "        img_rot = Image.open(rots_path)\n",
    "        plt.imshow(img_rot)\n",
    "        plt.title(subject_name+\" Rotation series\") \n",
    "        plt.axis('off')\n",
    "        plt.show()\n",
    "\n",
    "        plt.subplot(2, 1, 2)\n",
    "        img_tran = Image.open(trans_path)\n",
    "        plt.title(subject_name+\" Translations series\") \n",
    "        plt.imshow(img_tran)\n",
    "        plt.axis('off')\n",
    "        plt.show()\n",
    "    except Exception as e:\n",
    "        print(str(e))\n",
    "        print(\"Region_analysis file doesn't exist.\")\n",
    "\n",
    "_ = interact(show_difference_map,\n",
    "             subject_name=Subject_dropdown)"
   ]
  },
  {
   "cell_type": "code",
   "execution_count": null,
   "metadata": {},
   "outputs": [],
   "source": []
  },
  {
   "cell_type": "code",
   "execution_count": null,
   "metadata": {},
   "outputs": [],
   "source": []
  },
  {
   "cell_type": "code",
   "execution_count": null,
   "metadata": {},
   "outputs": [],
   "source": []
  }
 ],
 "metadata": {
  "kernelspec": {
   "display_name": "Python 3",
   "language": "python",
   "name": "python3"
  },
  "language_info": {
   "codemirror_mode": {
    "name": "ipython",
    "version": 3
   },
   "file_extension": ".py",
   "mimetype": "text/x-python",
   "name": "python",
   "nbconvert_exporter": "python",
   "pygments_lexer": "ipython3",
   "version": "3.7.6"
  }
 },
 "nbformat": 4,
 "nbformat_minor": 4
}
